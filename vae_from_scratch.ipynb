{
  "nbformat": 4,
  "nbformat_minor": 0,
  "metadata": {
    "colab": {
      "provenance": [],
      "authorship_tag": "ABX9TyObs4bQHKQMIaKtgzKyIWrB",
      "include_colab_link": true
    },
    "kernelspec": {
      "name": "python3",
      "display_name": "Python 3"
    },
    "language_info": {
      "name": "python"
    }
  },
  "cells": [
    {
      "cell_type": "markdown",
      "metadata": {
        "id": "view-in-github",
        "colab_type": "text"
      },
      "source": [
        "<a href=\"https://colab.research.google.com/github/alexchen1999/deeplearning-from-scratch/blob/main/vae_from_scratch.ipynb\" target=\"_parent\"><img src=\"https://colab.research.google.com/assets/colab-badge.svg\" alt=\"Open In Colab\"/></a>"
      ]
    },
    {
      "cell_type": "code",
      "execution_count": 1,
      "metadata": {
        "id": "QV7PCsi8nxw9"
      },
      "outputs": [],
      "source": [
        "import torch\n",
        "import torch.nn.functional as F\n",
        "\n",
        "from torch import nn"
      ]
    },
    {
      "cell_type": "code",
      "source": [
        "class VariationalAutoEncoder(nn.Module):\n",
        "  def __init__(self, input_dim, h_dim=200, z_dim=20):\n",
        "    super().__init__()\n",
        "\n",
        "    # Encoder\n",
        "    self.img_2hid = nn.Linear(input_dim, h_dim)\n",
        "    self.hid_2mu = nn.Linear(h_dim, z_dim)\n",
        "    self.hid_2sigma = nn.Linear(h_dim, z_dim)\n",
        "\n",
        "    # Decoder\n",
        "    self.z_2hid = nn.Linear(z_dim, h_dim)\n",
        "    self.hid_2img = nn.Linear(h_dim, input_dim)\n",
        "\n",
        "    self.relu = nn.ReLU()\n",
        "\n",
        "  def encode(self, x):\n",
        "    h = self.relu(self.img_2hid(x))\n",
        "    mu, sigma = self.hid_2mu(h), self.hid_2sigma(h)\n",
        "    return mu, sigma\n",
        "\n",
        "  def decode(self, z):\n",
        "    h = self.z_2hid(z)\n",
        "    return torch.sigmoid(self.hid_2img(h)) # Scale from 0 to 1 because MNIST is standardized\n",
        "\n",
        "  def forward(self, x):\n",
        "    mu, sigma = self.encode(x)\n",
        "\n",
        "    # Reparameterization trick\n",
        "    epsilon = torch.randn_like(sigma) # see https://pytorch.org/docs/stable/generated/torch.randn_like.html: sampling from Gaussian with same tensor shape\n",
        "    z_reparameterized = mu + sigma * epsilon\n",
        "\n",
        "    x_reconstructed = self.decode(z_reparameterized)\n",
        "\n",
        "    return x, mu, sigma"
      ],
      "metadata": {
        "id": "PN4FZP4dn0bU"
      },
      "execution_count": 4,
      "outputs": []
    },
    {
      "cell_type": "code",
      "source": [
        "x = torch.randn(4, 28 * 28)\n",
        "vae = VariationalAutoEncoder(input_dim=784)\n",
        "x_recon, mu, sigma = vae(x)\n",
        "\n",
        "print(x_recon.shape)\n",
        "print(mu.shape)\n",
        "print(sigma.shape)"
      ],
      "metadata": {
        "colab": {
          "base_uri": "https://localhost:8080/"
        },
        "id": "fmsK3CAVubT9",
        "outputId": "5dfe1069-f228-497a-f176-37407ee73d48"
      },
      "execution_count": 5,
      "outputs": [
        {
          "output_type": "stream",
          "name": "stdout",
          "text": [
            "torch.Size([4, 784])\n",
            "torch.Size([4, 20])\n",
            "torch.Size([4, 20])\n"
          ]
        }
      ]
    },
    {
      "cell_type": "code",
      "source": [
        "device = torch.device('cuda' if torch.cuda.is_available() else 'cpu')\n",
        "\n",
        "INPUT_DIM = 784\n",
        "H_DIM = 392\n",
        "Z_DIM = 196\n",
        "\n",
        "NUM_EPOCHS = 10\n",
        "BATCH_SIZE = 64\n",
        "\n",
        "LEARNING_RATE = 0.001"
      ],
      "metadata": {
        "id": "ohA5vl6Wus1y"
      },
      "execution_count": 22,
      "outputs": []
    },
    {
      "cell_type": "code",
      "source": [
        "import torchvision.datasets as datasets\n",
        "from torchvision import transforms\n",
        "\n",
        "dataset = datasets.MNIST(root=\"dataset/\", train=True, transform=transforms.ToTensor(), download=True)\n",
        "dataset"
      ],
      "metadata": {
        "colab": {
          "base_uri": "https://localhost:8080/"
        },
        "id": "M3HH9W0Mvbdu",
        "outputId": "249fe153-73ae-43ec-8535-2a8d08deb58a"
      },
      "execution_count": 23,
      "outputs": [
        {
          "output_type": "execute_result",
          "data": {
            "text/plain": [
              "Dataset MNIST\n",
              "    Number of datapoints: 60000\n",
              "    Root location: dataset/\n",
              "    Split: Train\n",
              "    StandardTransform\n",
              "Transform: ToTensor()"
            ]
          },
          "metadata": {},
          "execution_count": 23
        }
      ]
    },
    {
      "cell_type": "code",
      "source": [
        "from torch.utils.data import DataLoader\n",
        "from torch import optim\n",
        "from tqdm import tqdm\n",
        "\n",
        "train_loader = DataLoader(dataset=dataset, batch_size=BATCH_SIZE, shuffle=True)\n",
        "model = VariationalAutoEncoder(INPUT_DIM, H_DIM, Z_DIM).to(device)\n",
        "optimizer = optim.Adam(model.parameters(), lr=LEARNING_RATE)\n",
        "\n",
        "bce_loss = nn.BCELoss(reduction=\"sum\")\n",
        "\n",
        "\n",
        "for epoch in range(NUM_EPOCHS):\n",
        "  loop = tqdm(enumerate(train_loader))\n",
        "\n",
        "  for i, (x, _) in loop:\n",
        "    x = x.to(device).view(x.shape[0], INPUT_DIM)\n",
        "\n",
        "    x_recon, mu, sigma = model(x)\n",
        "\n",
        "    recon_loss = bce_loss(x_recon, x)\n",
        "    kl_div = -torch.sum(1 + torch.log(sigma.pow(2)) - mu.pow(2) - sigma.pow(2))\n",
        "\n",
        "    loss = recon_loss + kl_div\n",
        "    optimizer.zero_grad()\n",
        "    loss.backward()\n",
        "    optimizer.step()\n",
        "    loop.set_postfix(loss=loss.item())"
      ],
      "metadata": {
        "colab": {
          "base_uri": "https://localhost:8080/"
        },
        "id": "g8rSACcvxtyr",
        "outputId": "f760bd93-3bd8-40ff-f624-446fa5ef8c57"
      },
      "execution_count": 24,
      "outputs": [
        {
          "output_type": "stream",
          "name": "stderr",
          "text": [
            "938it [00:24, 38.94it/s, loss=1.53e+3]\n",
            "938it [00:24, 38.06it/s, loss=1.55e+3]\n",
            "938it [00:24, 37.75it/s, loss=1.55e+3]\n",
            "938it [00:25, 37.49it/s, loss=1.52e+3]\n",
            "938it [00:25, 36.85it/s, loss=1.49e+3]\n",
            "938it [00:25, 37.18it/s, loss=1.54e+3]\n",
            "938it [00:27, 34.10it/s, loss=1.47e+3]\n",
            "938it [00:25, 36.59it/s, loss=1.36e+3]\n",
            "938it [00:25, 36.33it/s, loss=1.39e+3]\n",
            "938it [00:26, 35.93it/s, loss=1.51e+3]\n"
          ]
        }
      ]
    },
    {
      "cell_type": "code",
      "source": [
        "import matplotlib.pyplot as plt\n",
        "import torchvision.utils as vutils\n",
        "\n",
        "# Assuming model is already trained\n",
        "\n",
        "# Number of images to generate\n",
        "num_samples = 10\n",
        "\n",
        "# Sample latent vectors from a standard Gaussian distribution\n",
        "with torch.no_grad():\n",
        "    z = torch.randn(num_samples, Z_DIM).to(device)\n",
        "\n",
        "# Pass the latent vectors through the decoder part of the VAE model to generate images\n",
        "with torch.no_grad():\n",
        "    generated_images = model.decode(z)\n",
        "\n",
        "# Reshape generated images to 3D tensor (batch size, channels, height, width) for visualization\n",
        "generated_images = generated_images.view(-1, 1, 28, 28)\n",
        "\n",
        "# Convert the PyTorch tensor to a NumPy array\n",
        "generated_images_numpy = generated_images.cpu().numpy()\n",
        "\n",
        "# Plot the generated images\n",
        "plt.figure(figsize=(10, 5))\n",
        "for i in range(num_samples):\n",
        "    plt.subplot(2, 5, i + 1)\n",
        "    plt.imshow(generated_images_numpy[i, 0], cmap='gray')\n",
        "    plt.axis('off')\n",
        "plt.show()"
      ],
      "metadata": {
        "colab": {
          "base_uri": "https://localhost:8080/",
          "height": 382
        },
        "id": "raKe6ywj0ubR",
        "outputId": "6996a223-0913-4a18-cbad-084740edafd2"
      },
      "execution_count": 25,
      "outputs": [
        {
          "output_type": "display_data",
          "data": {
            "text/plain": [
              "<Figure size 1000x500 with 10 Axes>"
            ],
            "image/png": "[encoded data removed]"
          },
          "metadata": {}
        }
      ]
    },
    {
      "cell_type": "code",
      "source": [],
      "metadata": {
        "id": "p3R4jsrM2Y6S"
      },
      "execution_count": null,
      "outputs": []
    }
  ]
}