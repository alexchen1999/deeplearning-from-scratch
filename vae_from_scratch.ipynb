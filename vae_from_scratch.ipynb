{
  "nbformat": 4,
  "nbformat_minor": 0,
  "metadata": {
    "colab": {
      "provenance": [],
      "authorship_tag": "ABX9TyO+YOjVjY0vJ4Y+lQ+rON4h",
      "include_colab_link": true
    },
    "kernelspec": {
      "name": "python3",
      "display_name": "Python 3"
    },
    "language_info": {
      "name": "python"
    }
  },
  "cells": [
    {
      "cell_type": "markdown",
      "metadata": {
        "id": "view-in-github",
        "colab_type": "text"
      },
      "source": [
        "<a href=\"https://colab.research.google.com/github/alexchen1999/deeplearning-from-scratch/blob/main/vae_from_scratch.ipynb\" target=\"_parent\"><img src=\"https://colab.research.google.com/assets/colab-badge.svg\" alt=\"Open In Colab\"/></a>"
      ]
    },
    {
      "cell_type": "code",
      "execution_count": 1,
      "metadata": {
        "id": "QV7PCsi8nxw9"
      },
      "outputs": [],
      "source": [
        "import torch\n",
        "import torch.nn.functional as F\n",
        "\n",
        "from torch import nn"
      ]
    },
    {
      "cell_type": "code",
      "source": [
        "class VariationalAutoEncoder(nn.Module):\n",
        "  def __init__(self, input_dim, h_dim=200, z_dim=20):\n",
        "    super().__init__()\n",
        "\n",
        "    # Encoder\n",
        "    self.img_2hid = nn.Linear(input_dim, h_dim)\n",
        "    self.hid_2mu = nn.Linear(h_dim, z_dim)\n",
        "    self.hid_2sigma = nn.Linear(h_dim, z_dim)\n",
        "\n",
        "    # Decoder\n",
        "    self.z_2hid = nn.Linear(z_dim, h_dim)\n",
        "    self.hid_2img = nn.Linear(h_dim, input_dim)\n",
        "\n",
        "    self.relu = nn.ReLU()\n",
        "\n",
        "  def encode(self, x):\n",
        "    h = self.relu(self.img_2hid(x))\n",
        "    mu, sigma = self.hid_2mu(h), self.hid_2sigma(h)\n",
        "    return mu, sigma\n",
        "\n",
        "  def decode(self, z):\n",
        "    h = self.z_2hid(z)\n",
        "    return torch.sigmoid(self.hid_2img(h)) # Scale from 0 to 1 because MNIST is standardized\n",
        "\n",
        "  def forward(self, x):\n",
        "    mu, sigma = self.encode(x)\n",
        "\n",
        "    # Reparameterization trick\n",
        "    epsilon = torch.randn_like(sigma) # see https://pytorch.org/docs/stable/generated/torch.randn_like.html: sampling from Gaussian with same tensor shape\n",
        "    z_reparameterized = mu + sigma * epsilon\n",
        "\n",
        "    x_reconstructed = self.decode(z_reparameterized)\n",
        "\n",
        "    return x, mu, sigma"
      ],
      "metadata": {
        "id": "PN4FZP4dn0bU"
      },
      "execution_count": 4,
      "outputs": []
    },
    {
      "cell_type": "code",
      "source": [
        "x = torch.randn(4, 28 * 28)\n",
        "vae = VariationalAutoEncoder(input_dim=784)\n",
        "x_recon, mu, sigma = vae(x)\n",
        "\n",
        "print(x_recon.shape)\n",
        "print(mu.shape)\n",
        "print(sigma.shape)"
      ],
      "metadata": {
        "colab": {
          "base_uri": "https://localhost:8080/"
        },
        "id": "fmsK3CAVubT9",
        "outputId": "5dfe1069-f228-497a-f176-37407ee73d48"
      },
      "execution_count": 5,
      "outputs": [
        {
          "output_type": "stream",
          "name": "stdout",
          "text": [
            "torch.Size([4, 784])\n",
            "torch.Size([4, 20])\n",
            "torch.Size([4, 20])\n"
          ]
        }
      ]
    },
    {
      "cell_type": "code",
      "source": [
        "device = torch.device('cuda' if torch.cuda.is_available() else 'cpu')\n",
        "\n",
        "INPUT_DIM = 784\n",
        "H_DIM = 200\n",
        "Z_DIM = 20\n",
        "\n",
        "NUM_EPOCHS = 10\n",
        "\n",
        "BATCH_SIZE = 32\n",
        "\n",
        "LEARNING_RATE = 0.001"
      ],
      "metadata": {
        "id": "ohA5vl6Wus1y"
      },
      "execution_count": 7,
      "outputs": []
    },
    {
      "cell_type": "code",
      "source": [
        "import torchvision.datasets as datasets\n",
        "from torchvision import transforms\n",
        "\n",
        "dataset = datasets.MNIST(root=\"dataset/\", train=True, transform=transforms.ToTensor(), download=True)\n",
        "dataset"
      ],
      "metadata": {
        "colab": {
          "base_uri": "https://localhost:8080/"
        },
        "id": "M3HH9W0Mvbdu",
        "outputId": "f6f1e569-6e53-41ce-f165-bb9e0121f577"
      },
      "execution_count": 8,
      "outputs": [
        {
          "output_type": "stream",
          "name": "stdout",
          "text": [
            "Downloading http://yann.lecun.com/exdb/mnist/train-images-idx3-ubyte.gz\n",
            "Downloading http://yann.lecun.com/exdb/mnist/train-images-idx3-ubyte.gz to dataset/MNIST/raw/train-images-idx3-ubyte.gz\n"
          ]
        },
        {
          "output_type": "stream",
          "name": "stderr",
          "text": [
            "100%|██████████| 9912422/9912422 [00:00<00:00, 200097755.02it/s]\n"
          ]
        },
        {
          "output_type": "stream",
          "name": "stdout",
          "text": [
            "Extracting dataset/MNIST/raw/train-images-idx3-ubyte.gz to dataset/MNIST/raw\n",
            "\n",
            "Downloading http://yann.lecun.com/exdb/mnist/train-labels-idx1-ubyte.gz\n",
            "Downloading http://yann.lecun.com/exdb/mnist/train-labels-idx1-ubyte.gz to dataset/MNIST/raw/train-labels-idx1-ubyte.gz\n"
          ]
        },
        {
          "output_type": "stream",
          "name": "stderr",
          "text": [
            "100%|██████████| 28881/28881 [00:00<00:00, 42728639.80it/s]\n"
          ]
        },
        {
          "output_type": "stream",
          "name": "stdout",
          "text": [
            "Extracting dataset/MNIST/raw/train-labels-idx1-ubyte.gz to dataset/MNIST/raw\n",
            "\n",
            "Downloading http://yann.lecun.com/exdb/mnist/t10k-images-idx3-ubyte.gz\n",
            "Downloading http://yann.lecun.com/exdb/mnist/t10k-images-idx3-ubyte.gz to dataset/MNIST/raw/t10k-images-idx3-ubyte.gz\n"
          ]
        },
        {
          "output_type": "stream",
          "name": "stderr",
          "text": [
            "100%|██████████| 1648877/1648877 [00:00<00:00, 189010423.52it/s]"
          ]
        },
        {
          "output_type": "stream",
          "name": "stdout",
          "text": [
            "Extracting dataset/MNIST/raw/t10k-images-idx3-ubyte.gz to dataset/MNIST/raw\n",
            "\n",
            "Downloading http://yann.lecun.com/exdb/mnist/t10k-labels-idx1-ubyte.gz\n"
          ]
        },
        {
          "output_type": "stream",
          "name": "stderr",
          "text": [
            "\n"
          ]
        },
        {
          "output_type": "stream",
          "name": "stdout",
          "text": [
            "Downloading http://yann.lecun.com/exdb/mnist/t10k-labels-idx1-ubyte.gz to dataset/MNIST/raw/t10k-labels-idx1-ubyte.gz\n"
          ]
        },
        {
          "output_type": "stream",
          "name": "stderr",
          "text": [
            "100%|██████████| 4542/4542 [00:00<00:00, 13559095.21it/s]\n"
          ]
        },
        {
          "output_type": "stream",
          "name": "stdout",
          "text": [
            "Extracting dataset/MNIST/raw/t10k-labels-idx1-ubyte.gz to dataset/MNIST/raw\n",
            "\n"
          ]
        },
        {
          "output_type": "execute_result",
          "data": {
            "text/plain": [
              "Dataset MNIST\n",
              "    Number of datapoints: 60000\n",
              "    Root location: dataset/\n",
              "    Split: Train\n",
              "    StandardTransform\n",
              "Transform: ToTensor()"
            ]
          },
          "metadata": {},
          "execution_count": 8
        }
      ]
    },
    {
      "cell_type": "code",
      "source": [
        "from torch.utils.data import DataLoader\n",
        "from torch import optim\n",
        "from tqdm import tqdm\n",
        "\n",
        "train_loader = DataLoader(dataset=dataset, batch_size=BATCH_SIZE, shuffle=True)\n",
        "model = VariationalAutoEncoder(INPUT_DIM, H_DIM, Z_DIM).to(device)\n",
        "optimizer = optim.Adam(model.parameters(), lr=LEARNING_RATE)\n",
        "\n",
        "bce_loss = nn.BCELoss(reduction=\"sum\")\n",
        "\n",
        "\n",
        "for epoch in range(NUM_EPOCHS):\n",
        "  loop = tqdm(enumerate(train_loader))\n",
        "\n",
        "  for i, (x, _) in loop:\n",
        "    x = x.to(device).view(x.shape[0], INPUT_DIM)\n",
        "\n",
        "    x_recon, mu, sigma = model(x)\n",
        "\n",
        "    recon_loss = bce_loss(x_recon, x)\n",
        "    kl_div = -torch.sum(1 + torch.log(sigma.pow(2)) - mu.pow(2) - sigma.pow(2))\n",
        "\n",
        "    loss = recon_loss + kl_div\n",
        "    optimizer.zero_grad()\n",
        "    loss.backward()\n",
        "    optimizer.step()\n",
        "    loop.set_postfix(loss=loss.item())"
      ],
      "metadata": {
        "colab": {
          "base_uri": "https://localhost:8080/"
        },
        "id": "g8rSACcvxtyr",
        "outputId": "1d88949b-df1e-4860-d416-9d0dbbb6bdd8"
      },
      "execution_count": 10,
      "outputs": [
        {
          "output_type": "stream",
          "name": "stderr",
          "text": [
            "1875it [00:27, 67.06it/s, loss=1.41e+3]\n",
            "1875it [00:29, 62.52it/s, loss=1.5e+3]\n",
            "1875it [00:28, 65.22it/s, loss=1.41e+3]\n",
            "1875it [00:28, 64.95it/s, loss=1.45e+3]\n",
            "1875it [00:28, 65.37it/s, loss=1.42e+3]\n",
            "1875it [00:29, 64.25it/s, loss=1.48e+3]\n",
            "1875it [00:29, 62.76it/s, loss=1.44e+3]\n",
            "1875it [00:30, 62.14it/s, loss=1.39e+3]\n",
            "1875it [00:30, 61.89it/s, loss=1.42e+3]\n",
            "1875it [00:30, 60.60it/s, loss=1.5e+3]\n"
          ]
        }
      ]
    },
    {
      "cell_type": "code",
      "source": [],
      "metadata": {
        "id": "raKe6ywj0ubR"
      },
      "execution_count": null,
      "outputs": []
    }
  ]
}