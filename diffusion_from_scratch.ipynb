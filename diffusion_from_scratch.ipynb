{
  "nbformat": 4,
  "nbformat_minor": 0,
  "metadata": {
    "colab": {
      "provenance": [],
      "authorship_tag": "ABX9TyNyRQ0eZS1oxKcEkc3rtvkN",
      "include_colab_link": true
    },
    "kernelspec": {
      "name": "python3",
      "display_name": "Python 3"
    },
    "language_info": {
      "name": "python"
    }
  },
  "cells": [
    {
      "cell_type": "markdown",
      "metadata": {
        "id": "view-in-github",
        "colab_type": "text"
      },
      "source": [
        "<a href=\"https://colab.research.google.com/github/alexchen1999/deeplearning-from-scratch/blob/main/diffusion_from_scratch.ipynb\" target=\"_parent\"><img src=\"https://colab.research.google.com/assets/colab-badge.svg\" alt=\"Open In Colab\"/></a>"
      ]
    },
    {
      "cell_type": "code",
      "execution_count": 2,
      "metadata": {
        "id": "cKihpuUsGcj0"
      },
      "outputs": [],
      "source": [
        "import torch\n",
        "import torch.nn as nn\n",
        "import matplotlib.pyplot as plt"
      ]
    },
    {
      "cell_type": "code",
      "source": [
        "class Diffusion:\n",
        "  def __init__(self, noise_steps=1000, beta_start=1e-4, beta_end=0.02, img_size=64, device=\"cuda\"):\n",
        "    self.noise_steps = noise_steps\n",
        "    self.beta_start = beta_start\n",
        "    self.beta_end = beta_end\n",
        "    self.img_size = img_size\n",
        "    self.device = device\n",
        "\n",
        "    self.beta = self.prepare_noise_schedule().to(device)\n",
        "    self.alpha = 1 - self.beta\n",
        "    self.alpha_hat = torch.cumprod(self.alpha, dim=0)\n",
        "\n",
        "\n",
        "  def prepare_noise_schedule(self):\n",
        "    return torch.linspace(self.beta_start, self.beta_end, self.noise_steps)\n",
        "\n",
        "  def noise_images(self, x, t):\n",
        "    '''\n",
        "    Adds gaussian noise via the reparameterization trick to the input x at timestep t.\n",
        "\n",
        "    '''\n",
        "    sqrt_alpha_hat = torch.sqrt(self.alpha_hat[t])[:, None, None, None]\n",
        "    sqrt_one_minus_alpha_hat = torch.sqrt(1. - self.alpha_hat[t])[:, None, None, None]\n",
        "\n",
        "    # Reparameterization trick\n",
        "    epsilon = torch.randn_like(x)\n",
        "    return sqrt_alpha_hat * x + sqrt_one_minus_alpha_hat * epsilon, epsilon"
      ],
      "metadata": {
        "id": "CjuAl0SmHmM9"
      },
      "execution_count": 1,
      "outputs": []
    },
    {
      "cell_type": "code",
      "source": [],
      "metadata": {
        "id": "6UQS1UeIK59r"
      },
      "execution_count": null,
      "outputs": []
    }
  ]
}